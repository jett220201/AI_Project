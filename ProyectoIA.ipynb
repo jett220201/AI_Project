{
  "nbformat": 4,
  "nbformat_minor": 0,
  "metadata": {
    "colab": {
      "name": "ProyectoIA.ipynb",
      "provenance": [],
      "collapsed_sections": [],
      "include_colab_link": true
    },
    "kernelspec": {
      "name": "python3",
      "display_name": "Python 3"
    },
    "language_info": {
      "name": "python"
    }
  },
  "cells": [
    {
      "cell_type": "markdown",
      "metadata": {
        "id": "view-in-github",
        "colab_type": "text"
      },
      "source": [
        "<a href=\"https://colab.research.google.com/github/jett220201/IA_Project/blob/main/ProyectoIA.ipynb\" target=\"_parent\"><img src=\"https://colab.research.google.com/assets/colab-badge.svg\" alt=\"Open In Colab\"/></a>"
      ]
    },
    {
      "cell_type": "markdown",
      "source": [
        "Importación de librerias"
      ],
      "metadata": {
        "id": "FvmbM82Ql31j"
      }
    },
    {
      "cell_type": "code",
      "execution_count": 1,
      "metadata": {
        "id": "nrEb5gPHkISa"
      },
      "outputs": [],
      "source": [
        "import pandas as pd\n",
        "import numpy as np\n",
        "from sklearn.preprocessing import StandardScaler\n",
        "from sklearn.model_selection import train_test_split\n",
        "from sklearn import svm\n",
        "from sklearn.model_selection import GridSearchCV\n",
        "from sklearn.metrics import matthews_corrcoef\n",
        "from sklearn import decomposition\n",
        "from sklearn.decomposition import PCA\n",
        "from sklearn.neighbors import KNeighborsClassifier\n",
        "from sklearn.model_selection import cross_val_score\n",
        "import matplotlib.pyplot as plt"
      ]
    },
    {
      "cell_type": "markdown",
      "source": [
        "Carga del Dataset"
      ],
      "metadata": {
        "id": "PudtaeMnmCIP"
      }
    },
    {
      "cell_type": "code",
      "source": [
        "Dataframe = pd.read_csv(\"Dataset.csv\",sep=\",\")\n",
        "Dataframe.head(10)"
      ],
      "metadata": {
        "colab": {
          "base_uri": "https://localhost:8080/",
          "height": 363
        },
        "id": "8QZWNUP9kfxY",
        "outputId": "c5707418-5e2c-4d1c-fc70-882e8cefdec4"
      },
      "execution_count": 2,
      "outputs": [
        {
          "output_type": "execute_result",
          "data": {
            "text/plain": [
              "   Unnamed: 0  Label       Hu0           Hu1           Hu2           Hu3  \\\n",
              "0           0      1  0.000681  3.634049e-08  2.419996e-36  5.515569e-36   \n",
              "1           1      1  0.000681  3.634049e-08  2.419996e-36  5.515569e-36   \n",
              "2           2      1  0.000681  3.634049e-08  2.419996e-36  5.515569e-36   \n",
              "3           3      1  0.000681  3.634049e-08  2.419996e-36  5.515569e-36   \n",
              "4           4      1  0.000681  3.634049e-08  2.419996e-36  5.515569e-36   \n",
              "5           5      1  0.000681  3.634049e-08  2.419996e-36  5.515569e-36   \n",
              "6           6      1  0.000681  3.634049e-08  2.419996e-36  5.515569e-36   \n",
              "7           7      1  0.000681  3.634049e-08  2.419996e-36  5.515569e-36   \n",
              "8           8      1  0.000681  3.634049e-08  2.419996e-36  5.515569e-36   \n",
              "9           9      1  0.000681  3.634049e-08  2.419996e-36  5.515569e-36   \n",
              "\n",
              "            Hu4           Hu5           Hu6  \n",
              "0  1.928547e-71 -1.019727e-39 -5.841777e-72  \n",
              "1  1.928547e-71 -1.019727e-39 -5.841777e-72  \n",
              "2  1.928547e-71 -1.019727e-39 -5.841777e-72  \n",
              "3  1.928547e-71 -1.019727e-39 -5.841777e-72  \n",
              "4  1.928547e-71 -1.019727e-39 -5.841777e-72  \n",
              "5  1.928547e-71 -1.019727e-39 -5.841777e-72  \n",
              "6  1.928547e-71 -1.019727e-39 -5.841777e-72  \n",
              "7  1.928547e-71 -1.019727e-39 -5.841777e-72  \n",
              "8  1.928547e-71 -1.019727e-39 -5.841777e-72  \n",
              "9  1.928547e-71 -1.019727e-39 -5.841777e-72  "
            ],
            "text/html": [
              "\n",
              "  <div id=\"df-8157ab3c-944c-4ec9-bd7a-850bd5bfe359\">\n",
              "    <div class=\"colab-df-container\">\n",
              "      <div>\n",
              "<style scoped>\n",
              "    .dataframe tbody tr th:only-of-type {\n",
              "        vertical-align: middle;\n",
              "    }\n",
              "\n",
              "    .dataframe tbody tr th {\n",
              "        vertical-align: top;\n",
              "    }\n",
              "\n",
              "    .dataframe thead th {\n",
              "        text-align: right;\n",
              "    }\n",
              "</style>\n",
              "<table border=\"1\" class=\"dataframe\">\n",
              "  <thead>\n",
              "    <tr style=\"text-align: right;\">\n",
              "      <th></th>\n",
              "      <th>Unnamed: 0</th>\n",
              "      <th>Label</th>\n",
              "      <th>Hu0</th>\n",
              "      <th>Hu1</th>\n",
              "      <th>Hu2</th>\n",
              "      <th>Hu3</th>\n",
              "      <th>Hu4</th>\n",
              "      <th>Hu5</th>\n",
              "      <th>Hu6</th>\n",
              "    </tr>\n",
              "  </thead>\n",
              "  <tbody>\n",
              "    <tr>\n",
              "      <th>0</th>\n",
              "      <td>0</td>\n",
              "      <td>1</td>\n",
              "      <td>0.000681</td>\n",
              "      <td>3.634049e-08</td>\n",
              "      <td>2.419996e-36</td>\n",
              "      <td>5.515569e-36</td>\n",
              "      <td>1.928547e-71</td>\n",
              "      <td>-1.019727e-39</td>\n",
              "      <td>-5.841777e-72</td>\n",
              "    </tr>\n",
              "    <tr>\n",
              "      <th>1</th>\n",
              "      <td>1</td>\n",
              "      <td>1</td>\n",
              "      <td>0.000681</td>\n",
              "      <td>3.634049e-08</td>\n",
              "      <td>2.419996e-36</td>\n",
              "      <td>5.515569e-36</td>\n",
              "      <td>1.928547e-71</td>\n",
              "      <td>-1.019727e-39</td>\n",
              "      <td>-5.841777e-72</td>\n",
              "    </tr>\n",
              "    <tr>\n",
              "      <th>2</th>\n",
              "      <td>2</td>\n",
              "      <td>1</td>\n",
              "      <td>0.000681</td>\n",
              "      <td>3.634049e-08</td>\n",
              "      <td>2.419996e-36</td>\n",
              "      <td>5.515569e-36</td>\n",
              "      <td>1.928547e-71</td>\n",
              "      <td>-1.019727e-39</td>\n",
              "      <td>-5.841777e-72</td>\n",
              "    </tr>\n",
              "    <tr>\n",
              "      <th>3</th>\n",
              "      <td>3</td>\n",
              "      <td>1</td>\n",
              "      <td>0.000681</td>\n",
              "      <td>3.634049e-08</td>\n",
              "      <td>2.419996e-36</td>\n",
              "      <td>5.515569e-36</td>\n",
              "      <td>1.928547e-71</td>\n",
              "      <td>-1.019727e-39</td>\n",
              "      <td>-5.841777e-72</td>\n",
              "    </tr>\n",
              "    <tr>\n",
              "      <th>4</th>\n",
              "      <td>4</td>\n",
              "      <td>1</td>\n",
              "      <td>0.000681</td>\n",
              "      <td>3.634049e-08</td>\n",
              "      <td>2.419996e-36</td>\n",
              "      <td>5.515569e-36</td>\n",
              "      <td>1.928547e-71</td>\n",
              "      <td>-1.019727e-39</td>\n",
              "      <td>-5.841777e-72</td>\n",
              "    </tr>\n",
              "    <tr>\n",
              "      <th>5</th>\n",
              "      <td>5</td>\n",
              "      <td>1</td>\n",
              "      <td>0.000681</td>\n",
              "      <td>3.634049e-08</td>\n",
              "      <td>2.419996e-36</td>\n",
              "      <td>5.515569e-36</td>\n",
              "      <td>1.928547e-71</td>\n",
              "      <td>-1.019727e-39</td>\n",
              "      <td>-5.841777e-72</td>\n",
              "    </tr>\n",
              "    <tr>\n",
              "      <th>6</th>\n",
              "      <td>6</td>\n",
              "      <td>1</td>\n",
              "      <td>0.000681</td>\n",
              "      <td>3.634049e-08</td>\n",
              "      <td>2.419996e-36</td>\n",
              "      <td>5.515569e-36</td>\n",
              "      <td>1.928547e-71</td>\n",
              "      <td>-1.019727e-39</td>\n",
              "      <td>-5.841777e-72</td>\n",
              "    </tr>\n",
              "    <tr>\n",
              "      <th>7</th>\n",
              "      <td>7</td>\n",
              "      <td>1</td>\n",
              "      <td>0.000681</td>\n",
              "      <td>3.634049e-08</td>\n",
              "      <td>2.419996e-36</td>\n",
              "      <td>5.515569e-36</td>\n",
              "      <td>1.928547e-71</td>\n",
              "      <td>-1.019727e-39</td>\n",
              "      <td>-5.841777e-72</td>\n",
              "    </tr>\n",
              "    <tr>\n",
              "      <th>8</th>\n",
              "      <td>8</td>\n",
              "      <td>1</td>\n",
              "      <td>0.000681</td>\n",
              "      <td>3.634049e-08</td>\n",
              "      <td>2.419996e-36</td>\n",
              "      <td>5.515569e-36</td>\n",
              "      <td>1.928547e-71</td>\n",
              "      <td>-1.019727e-39</td>\n",
              "      <td>-5.841777e-72</td>\n",
              "    </tr>\n",
              "    <tr>\n",
              "      <th>9</th>\n",
              "      <td>9</td>\n",
              "      <td>1</td>\n",
              "      <td>0.000681</td>\n",
              "      <td>3.634049e-08</td>\n",
              "      <td>2.419996e-36</td>\n",
              "      <td>5.515569e-36</td>\n",
              "      <td>1.928547e-71</td>\n",
              "      <td>-1.019727e-39</td>\n",
              "      <td>-5.841777e-72</td>\n",
              "    </tr>\n",
              "  </tbody>\n",
              "</table>\n",
              "</div>\n",
              "      <button class=\"colab-df-convert\" onclick=\"convertToInteractive('df-8157ab3c-944c-4ec9-bd7a-850bd5bfe359')\"\n",
              "              title=\"Convert this dataframe to an interactive table.\"\n",
              "              style=\"display:none;\">\n",
              "        \n",
              "  <svg xmlns=\"http://www.w3.org/2000/svg\" height=\"24px\"viewBox=\"0 0 24 24\"\n",
              "       width=\"24px\">\n",
              "    <path d=\"M0 0h24v24H0V0z\" fill=\"none\"/>\n",
              "    <path d=\"M18.56 5.44l.94 2.06.94-2.06 2.06-.94-2.06-.94-.94-2.06-.94 2.06-2.06.94zm-11 1L8.5 8.5l.94-2.06 2.06-.94-2.06-.94L8.5 2.5l-.94 2.06-2.06.94zm10 10l.94 2.06.94-2.06 2.06-.94-2.06-.94-.94-2.06-.94 2.06-2.06.94z\"/><path d=\"M17.41 7.96l-1.37-1.37c-.4-.4-.92-.59-1.43-.59-.52 0-1.04.2-1.43.59L10.3 9.45l-7.72 7.72c-.78.78-.78 2.05 0 2.83L4 21.41c.39.39.9.59 1.41.59.51 0 1.02-.2 1.41-.59l7.78-7.78 2.81-2.81c.8-.78.8-2.07 0-2.86zM5.41 20L4 18.59l7.72-7.72 1.47 1.35L5.41 20z\"/>\n",
              "  </svg>\n",
              "      </button>\n",
              "      \n",
              "  <style>\n",
              "    .colab-df-container {\n",
              "      display:flex;\n",
              "      flex-wrap:wrap;\n",
              "      gap: 12px;\n",
              "    }\n",
              "\n",
              "    .colab-df-convert {\n",
              "      background-color: #E8F0FE;\n",
              "      border: none;\n",
              "      border-radius: 50%;\n",
              "      cursor: pointer;\n",
              "      display: none;\n",
              "      fill: #1967D2;\n",
              "      height: 32px;\n",
              "      padding: 0 0 0 0;\n",
              "      width: 32px;\n",
              "    }\n",
              "\n",
              "    .colab-df-convert:hover {\n",
              "      background-color: #E2EBFA;\n",
              "      box-shadow: 0px 1px 2px rgba(60, 64, 67, 0.3), 0px 1px 3px 1px rgba(60, 64, 67, 0.15);\n",
              "      fill: #174EA6;\n",
              "    }\n",
              "\n",
              "    [theme=dark] .colab-df-convert {\n",
              "      background-color: #3B4455;\n",
              "      fill: #D2E3FC;\n",
              "    }\n",
              "\n",
              "    [theme=dark] .colab-df-convert:hover {\n",
              "      background-color: #434B5C;\n",
              "      box-shadow: 0px 1px 3px 1px rgba(0, 0, 0, 0.15);\n",
              "      filter: drop-shadow(0px 1px 2px rgba(0, 0, 0, 0.3));\n",
              "      fill: #FFFFFF;\n",
              "    }\n",
              "  </style>\n",
              "\n",
              "      <script>\n",
              "        const buttonEl =\n",
              "          document.querySelector('#df-8157ab3c-944c-4ec9-bd7a-850bd5bfe359 button.colab-df-convert');\n",
              "        buttonEl.style.display =\n",
              "          google.colab.kernel.accessAllowed ? 'block' : 'none';\n",
              "\n",
              "        async function convertToInteractive(key) {\n",
              "          const element = document.querySelector('#df-8157ab3c-944c-4ec9-bd7a-850bd5bfe359');\n",
              "          const dataTable =\n",
              "            await google.colab.kernel.invokeFunction('convertToInteractive',\n",
              "                                                     [key], {});\n",
              "          if (!dataTable) return;\n",
              "\n",
              "          const docLinkHtml = 'Like what you see? Visit the ' +\n",
              "            '<a target=\"_blank\" href=https://colab.research.google.com/notebooks/data_table.ipynb>data table notebook</a>'\n",
              "            + ' to learn more about interactive tables.';\n",
              "          element.innerHTML = '';\n",
              "          dataTable['output_type'] = 'display_data';\n",
              "          await google.colab.output.renderOutput(dataTable, element);\n",
              "          const docLink = document.createElement('div');\n",
              "          docLink.innerHTML = docLinkHtml;\n",
              "          element.appendChild(docLink);\n",
              "        }\n",
              "      </script>\n",
              "    </div>\n",
              "  </div>\n",
              "  "
            ]
          },
          "metadata": {},
          "execution_count": 2
        }
      ]
    },
    {
      "cell_type": "markdown",
      "source": [
        "Asignación de características y etiquetas\n"
      ],
      "metadata": {
        "id": "jwKCNAOelphZ"
      }
    },
    {
      "cell_type": "code",
      "source": [
        "X = Dataframe[['Hu0','Hu1','Hu2','Hu3','Hu4','Hu5','Hu6']].values #Adquisición de caracteristicas\n",
        "y = Dataframe['Label'].values #Adquisición de etiquetas "
      ],
      "metadata": {
        "id": "QnMjurIglWv0"
      },
      "execution_count": 3,
      "outputs": []
    },
    {
      "cell_type": "markdown",
      "source": [
        "División del Dataset\n"
      ],
      "metadata": {
        "id": "kLKm6jpGmLpq"
      }
    },
    {
      "cell_type": "code",
      "source": [
        "#División del dataset en 10% para evaluar desempeño final y 90% para realizar\n",
        "#entrenamiento y validación cruzada\n",
        "X_train, X_test, y_train, y_test = train_test_split(X, y, test_size=0.1, random_state=0)"
      ],
      "metadata": {
        "id": "1HDCIf6JmQWG"
      },
      "execution_count": 4,
      "outputs": []
    },
    {
      "cell_type": "markdown",
      "source": [
        "Normalización del Dataset"
      ],
      "metadata": {
        "id": "bUS0AwCUmt7T"
      }
    },
    {
      "cell_type": "code",
      "source": [
        "#Normalización de los datos\n",
        "scaler = StandardScaler()\n",
        "scaler.fit(X_train)\n",
        "X_train = scaler.transform(X_train)\n",
        "X_test = scaler.transform(X_test)"
      ],
      "metadata": {
        "id": "BxOXnsXdms7D"
      },
      "execution_count": 5,
      "outputs": []
    },
    {
      "cell_type": "markdown",
      "source": [
        "PCA"
      ],
      "metadata": {
        "id": "_xs5uybOmzjA"
      }
    },
    {
      "cell_type": "code",
      "source": [
        "pca = decomposition.PCA(whiten=False,svd_solver='auto')\n",
        "pca.fit(X_train)\n",
        "X_trainPCA = pca.transform(X_train) \n",
        "\n",
        "print(\"Pesos de PCA:\", pca.explained_variance_ratio_)"
      ],
      "metadata": {
        "colab": {
          "base_uri": "https://localhost:8080/"
        },
        "id": "I9MpMoVnm0YZ",
        "outputId": "d459ab6e-ecb4-4ec3-cae2-568b9311a5b9"
      },
      "execution_count": 6,
      "outputs": [
        {
          "output_type": "stream",
          "name": "stdout",
          "text": [
            "Pesos de PCA: [8.72635364e-01 1.10995931e-01 1.01136287e-02 5.92647050e-03\n",
            " 3.05479427e-04 2.28169581e-05 3.09662429e-07]\n"
          ]
        }
      ]
    },
    {
      "cell_type": "markdown",
      "source": [
        "Se puede reducir a 2 dimensiones (0.983631295)"
      ],
      "metadata": {
        "id": "tnp3OZQlJk0x"
      }
    },
    {
      "cell_type": "code",
      "source": [
        "pca = decomposition.PCA(n_components=2)\n",
        "pca.fit(X_train)\n",
        "\n",
        "PCA_X_train = pca.transform(X_train)\n",
        "PCA_X_test = pca.transform(X_test)\n",
        "PCA_X = pca.transform(X)\n"
      ],
      "metadata": {
        "id": "alQhk04QfauY"
      },
      "execution_count": 7,
      "outputs": []
    },
    {
      "cell_type": "code",
      "source": [
        "#Iteración de hiper parametros para hallar el mejor clasificador KNN usando Grid Search y Cross Validate\n",
        "parameters_KNN = {'n_neighbors':[1,2,3,4,5,6,7,8,9,10,11,12,13,14,15,16,17,18,19,20], 'metric':('manhattan','euclidean','minkowski', 'chebyshev'), 'weights':('uniform', 'distance')}\n",
        "knn = KNeighborsClassifier()\n",
        "clf = GridSearchCV(knn, parameters_KNN,scoring=\"f1_macro\")\n",
        "#clf.fit(X_train, y_train)\n",
        "clf.fit(PCA_X_train, y_train)\n",
        "print(\"Best estimator: \" + str(clf.best_estimator_) + \"\\nwith metrics: \" + str(clf.best_params_) + \" and score: \" + str(clf.best_score_))"
      ],
      "metadata": {
        "id": "wga-6g-wrZ1m",
        "colab": {
          "base_uri": "https://localhost:8080/"
        },
        "outputId": "7ff1dded-5a21-48f8-e445-da9d7139ac79"
      },
      "execution_count": 8,
      "outputs": [
        {
          "output_type": "stream",
          "name": "stdout",
          "text": [
            "Best estimator: KNeighborsClassifier(metric='manhattan', n_neighbors=3)\n",
            "with metrics: {'metric': 'manhattan', 'n_neighbors': 3, 'weights': 'uniform'} and score: 0.5377339045443461\n"
          ]
        }
      ]
    },
    {
      "cell_type": "code",
      "source": [
        "#Re entrenamiento usando el 90% y validación de resultados usando el 10% y MCC\n",
        "knn = KNeighborsClassifier(n_neighbors = 3,weights = 'uniform', metric = 'chebyshev')\n",
        "knn.fit(PCA_X_train, y_train) \n",
        "print('MCC = ',matthews_corrcoef(y_test,knn.predict(PCA_X_test)))"
      ],
      "metadata": {
        "colab": {
          "base_uri": "https://localhost:8080/"
        },
        "id": "H1EIJNDAvHdq",
        "outputId": "2492c661-8431-4048-8e99-688689fb90c0"
      },
      "execution_count": 14,
      "outputs": [
        {
          "output_type": "stream",
          "name": "stdout",
          "text": [
            "MCC =  0.2196969696969697\n"
          ]
        }
      ]
    }
  ]
}