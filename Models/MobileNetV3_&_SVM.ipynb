{
  "cells": [
    {
      "cell_type": "markdown",
      "metadata": {
        "id": "view-in-github",
        "colab_type": "text"
      },
      "source": [
        "<a href=\"https://colab.research.google.com/github/jett220201/AI_Project/blob/main/Models/MobileNetV3_%26_SVM.ipynb\" target=\"_parent\"><img src=\"https://colab.research.google.com/assets/colab-badge.svg\" alt=\"Open In Colab\"/></a>"
      ]
    },
    {
      "cell_type": "markdown",
      "id": "165506ec",
      "metadata": {
        "id": "165506ec"
      },
      "source": [
        "# Solid waste sorter (PUJ) using MobileNetV3 & SVM\n",
        "\n",
        "- Juan Esteban Torres Tamayo\n",
        "- Janner Arley Rosero Mora\n"
      ]
    },
    {
      "cell_type": "code",
      "execution_count": null,
      "id": "a9d27555",
      "metadata": {
        "id": "a9d27555"
      },
      "outputs": [],
      "source": [
        "import os\n",
        "import cv2\n",
        "import glob\n",
        "import random\n",
        "import sklearn\n",
        "import numpy as np\n",
        "import pandas as pd \n",
        "import seaborn as sns\n",
        "import tensorflow as tf\n",
        "from sklearn import svm\n",
        "from sklearn.svm import SVC\n",
        "from sklearn import metrics\n",
        "import matplotlib.pyplot as plt\n",
        "from sklearn.metrics import auc\n",
        "from sklearn import preprocessing\n",
        "from sklearn.metrics import roc_curve\n",
        "from sklearn.metrics import make_scorer\n",
        "from keras.models import Model, Sequential\n",
        "from sklearn.metrics import matthews_corrcoef\n",
        "from sklearn.model_selection import GridSearchCV\n",
        "from matplotlib.collections import EventCollection\n",
        "from sklearn.model_selection import train_test_split\n",
        "from keras.layers import Dense, Flatten, Conv2D, MaxPooling2D\n",
        "\n",
        "###############################################################\n",
        "MCC_scorer = make_scorer(matthews_corrcoef)  #Create MCC scorer for validate score\n",
        "###############################################################\n"
      ]
    },
    {
      "cell_type": "code",
      "execution_count": null,
      "id": "1fd88cbd",
      "metadata": {
        "id": "1fd88cbd"
      },
      "outputs": [],
      "source": [
        "# Read input images and assign labels based on folder names\n",
        "print(os.listdir(\"data/\"))\n",
        "SIZE = 224  #Resize images"
      ]
    },
    {
      "cell_type": "code",
      "execution_count": null,
      "id": "92b7988c",
      "metadata": {
        "id": "92b7988c"
      },
      "outputs": [],
      "source": [
        "#Capture training data and labels into respective lists\n",
        "images = []\n",
        "labels = [] \n",
        "\n",
        "for directory_path in glob.glob(\"data/*\"):\n",
        "    label = directory_path.split(\"\\\\\")[-1]\n",
        "    print(label)\n",
        "    for img_path in glob.glob(os.path.join(directory_path, \"*.jpg\")):\n",
        "        img = cv2.imread(img_path, cv2.IMREAD_COLOR)       \n",
        "        img = cv2.resize(img, (SIZE, SIZE))\n",
        "        images.append(img)\n",
        "        labels.append(label)\n",
        "\n",
        "#Convert lists to arrays        \n",
        "images = np.array(images)\n",
        "labels = np.array(labels)"
      ]
    },
    {
      "cell_type": "code",
      "execution_count": null,
      "id": "123cdb26",
      "metadata": {
        "id": "123cdb26"
      },
      "outputs": [],
      "source": [
        "Seed_0 = random.randint(1,2**32 - 1) #Seed used for split"
      ]
    },
    {
      "cell_type": "code",
      "execution_count": null,
      "id": "49fb8254",
      "metadata": {
        "id": "49fb8254"
      },
      "outputs": [],
      "source": [
        "#Spliting Dataset\n",
        "X_train, X_test, y_train, y_test = train_test_split(images, labels, test_size=0.2, random_state = Seed_0)"
      ]
    },
    {
      "cell_type": "code",
      "execution_count": null,
      "id": "94f50421",
      "metadata": {
        "id": "94f50421"
      },
      "outputs": [],
      "source": [
        "#Encode labels from text to integers.\n",
        "\n",
        "le = preprocessing.LabelEncoder()\n",
        "le.fit(y_test)\n",
        "test_labels_encoded = le.transform(y_test)\n",
        "le.fit(y_train)\n",
        "train_labels_encoded = le.transform(y_train)\n",
        "\n",
        "#print(test_labels_encoded)\n",
        "print(train_labels_encoded)\n",
        "len(train_labels_encoded)\n",
        "\n",
        "#0 = Aprovechable\n",
        "#1 = No_Aprovechable"
      ]
    },
    {
      "cell_type": "markdown",
      "id": "a506e20e",
      "metadata": {
        "id": "a506e20e"
      },
      "source": [
        "# Preprocessing is needed\n",
        "\n",
        "Note: each Keras Application expects a specific kind of input preprocessing. For MobileNetV3, by default input preprocessing is included as a part of the model (as a Rescaling layer), and thus `tf.keras.applications.mobilenet_v3.preprocess_input` is actually a pass-through function. In this use case, MobileNetV3 models expect their inputs to be float tensors of pixels with values in the [0-255] range. At the same time, preprocessing as a part of the model (i.e. Rescaling layer) can be disabled by setting include_preprocessing argument to False. With preprocessing disabled MobileNetV3 models expect their inputs to be float tensors of pixels with values in the [-1, 1] range.\n",
        "\n",
        "Source: https://keras.io/api/applications/mobilenet/"
      ]
    },
    {
      "cell_type": "code",
      "execution_count": null,
      "id": "c0b02993",
      "metadata": {
        "id": "c0b02993"
      },
      "outputs": [],
      "source": [
        "#Inputs\n",
        "X_train = tf.keras.applications.mobilenet_v3.preprocess_input(X_train)\n",
        "Y_train = train_labels_encoded\n",
        "X_test = tf.keras.applications.mobilenet_v3.preprocess_input(X_test)\n",
        "Y_test = test_labels_encoded"
      ]
    },
    {
      "cell_type": "code",
      "execution_count": null,
      "id": "a0a3dbce",
      "metadata": {
        "id": "a0a3dbce"
      },
      "outputs": [],
      "source": [
        "#Charging MobileNetV3 model\n",
        "\n",
        "MobileNetV3model = tf.keras.applications.MobileNetV3Large(\n",
        "    input_shape=None,\n",
        "    alpha=1.0,\n",
        "    minimalistic=False,\n",
        "    include_top=False,\n",
        "    weights=\"imagenet\",\n",
        "    input_tensor=None,\n",
        "    classes=1000,\n",
        "    pooling=None,\n",
        "    dropout_rate=0.2,\n",
        "    classifier_activation=\"sigmoid\",\n",
        "    include_preprocessing=True,\n",
        ")\n",
        "\n",
        "\n",
        "#Make loaded layers as non-trainable. This is important as we want to work with pre-trained weights\n",
        "for layer in MobileNetV3model.layers:\n",
        "    layer.trainable = False\n",
        "\n",
        "MobileNetV3model.summary()  #Trainable parameters will be 0"
      ]
    },
    {
      "cell_type": "code",
      "execution_count": null,
      "id": "5c49229b",
      "metadata": {
        "id": "5c49229b"
      },
      "outputs": [],
      "source": [
        "#Now, let us use features from convolutional network for SVM\n",
        "\n",
        "feature_extractor=MobileNetV3model.predict(X_train)\n",
        "\n",
        "features = feature_extractor.reshape(feature_extractor.shape[0], -1)\n",
        "\n",
        "X_for_SVM = features #This is our X input to SVM\n",
        "\n",
        "############################################################\n",
        "\n",
        "X_test_feature = MobileNetV3model.predict(X_test)\n",
        "\n",
        "X_test_features = X_test_feature.reshape(X_test_feature.shape[0], -1)\n"
      ]
    },
    {
      "cell_type": "markdown",
      "id": "5af4f7d6",
      "metadata": {
        "id": "5af4f7d6"
      },
      "source": [
        "Source: https://scikit-learn.org/stable/modules/svm.html"
      ]
    },
    {
      "cell_type": "code",
      "execution_count": null,
      "id": "5071e833",
      "metadata": {
        "scrolled": true,
        "id": "5071e833"
      },
      "outputs": [],
      "source": [
        "# Hyperparameter Optimization\n",
        "\n",
        "print(svm.SVC().__doc__)"
      ]
    },
    {
      "cell_type": "code",
      "execution_count": null,
      "id": "a6092371",
      "metadata": {
        "scrolled": true,
        "id": "a6092371"
      },
      "outputs": [],
      "source": [
        "# defining parameter range\n",
        "param_grid1 = {\n",
        "    'C': [ 0.01, 0.1, 1.0, 5, 10, 100,1000],\n",
        "    'class_weight': [\"balanced\",None],\n",
        "    'decision_function_shape': ['ovo', 'ovr'],\n",
        "    'degree': [ 1, 2, 3, 4, 5,6],\n",
        "    'gamma': ['scale', 'auto'],\n",
        "    'kernel': ['poly'],\n",
        "    'probability': [False, True],\n",
        "    'tol': [0.001, 0.0001, 0.00001]} \n",
        "  \n",
        "grid1 = GridSearchCV(SVC(),\n",
        "                    param_grid1,\n",
        "                    refit = True,\n",
        "                    verbose = 3,\n",
        "                    scoring = MCC_scorer)\n",
        "  \n",
        "# fitting the model for grid search\n",
        "grid1.fit(X_for_SVM, Y_train)\n",
        "\n",
        "# print best parameter after tuning\n",
        "print(grid1.best_params_)\n",
        "  \n",
        "# print how our model looks after hyper-parameter tuning\n",
        "print(grid1.best_estimator_)"
      ]
    },
    {
      "cell_type": "code",
      "execution_count": null,
      "id": "100927c1",
      "metadata": {
        "id": "100927c1"
      },
      "outputs": [],
      "source": [
        "# defining parameter range\n",
        "param_grid2 = {\n",
        "    'C': [ 0.1, 1.0, 5, 10, 100,1000]\n",
        "} \n",
        "  \n",
        "grid2 = GridSearchCV(SVC(),\n",
        "                    param_grid2,\n",
        "                    refit = True,\n",
        "                    verbose = 3,\n",
        "                    scoring = MCC_scorer,\n",
        "                    n_jobs = -1)\n",
        "  \n",
        "# fitting the model for grid search\n",
        "grid2.fit(X_for_SVM, Y_train)\n",
        "\n",
        "# print best parameter after tuning\n",
        "print(grid2.best_params_)\n",
        "  \n",
        "# print how our model looks after hyper-parameter tuning\n",
        "print(grid2.best_estimator_)"
      ]
    },
    {
      "cell_type": "code",
      "execution_count": null,
      "id": "e641710d",
      "metadata": {
        "id": "e641710d"
      },
      "outputs": [],
      "source": [
        "# Save the best hyperparameter\n",
        "Best_C = grid2.best_params_.get('C') \n",
        "print('Best C = ',Best_C)\n",
        "print(type(Best_C))"
      ]
    },
    {
      "cell_type": "code",
      "execution_count": null,
      "id": "ba2bf291",
      "metadata": {
        "id": "ba2bf291"
      },
      "outputs": [],
      "source": [
        "# defining parameter range\n",
        "param_grid3 = {\n",
        "    'gamma': [ 0.01, 0.1, 0.2, 0.3, 0.4, 0.5, 0.6, 0.7, 0.8, 0.9, 1]\n",
        "} \n",
        "  \n",
        "grid3 = GridSearchCV(SVC(C = Best_C),\n",
        "                    param_grid3,\n",
        "                    refit = True,\n",
        "                    verbose = 3,\n",
        "                    scoring = MCC_scorer,\n",
        "                    n_jobs = -1)\n",
        "  \n",
        "# fitting the model for grid search\n",
        "grid3.fit(X_for_SVM, Y_train)\n",
        "\n",
        "# print best parameter after tuning\n",
        "print(grid3.best_params_)\n",
        "  \n",
        "# print how our model looks after hyper-parameter tuning\n",
        "print(grid3.best_estimator_)"
      ]
    },
    {
      "cell_type": "raw",
      "id": "c707d2ad",
      "metadata": {
        "id": "c707d2ad"
      },
      "source": [
        "Hacer grid search de gamma y C"
      ]
    },
    {
      "cell_type": "code",
      "execution_count": null,
      "id": "e0900f56",
      "metadata": {
        "id": "e0900f56"
      },
      "outputs": [],
      "source": [
        "print('Best score: ',grid3.best_score_)"
      ]
    },
    {
      "cell_type": "code",
      "execution_count": null,
      "id": "892f5b3f",
      "metadata": {
        "id": "892f5b3f"
      },
      "outputs": [],
      "source": [
        "# defining parameter range\n",
        "param_grid4 = {\n",
        "    'gamma': [ 'auto','scale'],\n",
        "} \n",
        "  \n",
        "grid4 = GridSearchCV(SVC(C = Best_C),\n",
        "                    param_grid4,\n",
        "                    refit = True,\n",
        "                    verbose = 3,\n",
        "                    scoring = MCC_scorer)\n",
        "  \n",
        "# fitting the model for grid search\n",
        "grid4.fit(X_for_SVM, Y_train)\n",
        "\n",
        "# print best parameter after tuning\n",
        "print(grid4.best_params_)\n",
        "  \n",
        "# print how our model looks after hyper-parameter tuning\n",
        "print(grid4.best_estimator_)\n",
        "\n",
        "#Print best score MCC\n",
        "print('Best score: ',grid4.best_score_)"
      ]
    },
    {
      "cell_type": "code",
      "execution_count": null,
      "id": "a0f98ad4",
      "metadata": {
        "id": "a0f98ad4"
      },
      "outputs": [],
      "source": [
        "# Save the best hyperparameter\n",
        "Best_gamma = grid4.best_params_.get('gamma') \n",
        "print('Best gamma = ',Best_gamma)\n",
        "print(type(Best_gamma))"
      ]
    },
    {
      "cell_type": "code",
      "execution_count": null,
      "id": "00d95a0e",
      "metadata": {
        "id": "00d95a0e"
      },
      "outputs": [],
      "source": [
        "# defining parameter range\n",
        "param_grid5 = {\n",
        "    'degree': [ 1, 2, 3, 4, 5, 6 ]\n",
        "} \n",
        "  \n",
        "grid5 = GridSearchCV(SVC(C = Best_C, gamma = Best_gamma, kernel = 'poly'),\n",
        "                    param_grid5,\n",
        "                    refit = True,\n",
        "                    verbose = 3,\n",
        "                    scoring = MCC_scorer)\n",
        "  \n",
        "# fitting the model for grid search\n",
        "grid5.fit(X_for_SVM, Y_train)\n",
        "\n",
        "# print best parameter after tuning\n",
        "print(grid5.best_params_)\n",
        "  \n",
        "# print how our model looks after hyper-parameter tuning\n",
        "print(grid5.best_estimator_)\n",
        "\n",
        "#Print best score MCC\n",
        "print('Best score: ',grid5.best_score_)"
      ]
    },
    {
      "cell_type": "code",
      "execution_count": null,
      "id": "a877d92f",
      "metadata": {
        "id": "a877d92f"
      },
      "outputs": [],
      "source": [
        "# defining parameter range\n",
        "param_grid6 = {\n",
        "    'kernel': [ 'linear', 'rbf', 'sigmoid' ]\n",
        "} \n",
        "  \n",
        "grid6 = GridSearchCV(SVC(C = Best_C, gamma = Best_gamma),\n",
        "                    param_grid6,\n",
        "                    refit = True,\n",
        "                    verbose = 3,\n",
        "                    scoring = MCC_scorer)\n",
        "  \n",
        "# fitting the model for grid search\n",
        "grid6.fit(X_for_SVM, Y_train)\n",
        "\n",
        "#print(\"Best grid 8 score ----> \",grid8.best_score_)\n",
        "\n",
        "# print best parameter after tuning\n",
        "print(grid6.best_params_)\n",
        "  \n",
        "# print how our model looks after hyper-parameter tuning\n",
        "print(grid6.best_estimator_)\n",
        "\n",
        "#Print best score MCC\n",
        "print('Best score: ',grid6.best_score_)"
      ]
    },
    {
      "cell_type": "code",
      "execution_count": null,
      "id": "1bec4400",
      "metadata": {
        "id": "1bec4400"
      },
      "outputs": [],
      "source": [
        "# Save the best hyperparameter\n",
        "Best_kernel = grid6.best_params_.get('kernel') \n",
        "print('Best kernel = ',Best_kernel)\n",
        "print(type(Best_kernel))"
      ]
    },
    {
      "cell_type": "code",
      "execution_count": null,
      "id": "6ad1d957",
      "metadata": {
        "id": "6ad1d957"
      },
      "outputs": [],
      "source": [
        "# defining parameter range\n",
        "param_grid7 = {\n",
        "    'class_weight': [\"balanced\",None],\n",
        "    'decision_function_shape': ['ovo', 'ovr'],\n",
        "    'tol': [0.001, 0.0001, 0.00001]\n",
        "} \n",
        "  \n",
        "grid7 = GridSearchCV(SVC(C = Best_C, gamma = Best_gamma, kernel = Best_kernel),\n",
        "                    param_grid7,\n",
        "                    refit = True,\n",
        "                    verbose = 3,\n",
        "                    scoring = MCC_scorer)\n",
        "  \n",
        "# fitting the model for grid search\n",
        "grid7.fit(X_for_SVM, Y_train)\n",
        "\n",
        "# print best parameter after tuning\n",
        "print(grid7.best_params_)\n",
        "  \n",
        "# print how our model looks after hyper-parameter tuning\n",
        "print(grid7.best_estimator_)\n",
        "\n",
        "#Print best score MCC\n",
        "print('Best score: ',grid7.best_score_)"
      ]
    },
    {
      "cell_type": "markdown",
      "id": "a6dab9ce",
      "metadata": {
        "id": "a6dab9ce"
      },
      "source": [
        "# Best optimized classifier \n",
        "**SVC(C = 5, gamma = 'scale', decision_function_shape = 'ovo',class_weight = 'balanced',kernel ='rbf')**"
      ]
    },
    {
      "cell_type": "code",
      "execution_count": null,
      "id": "33f23b6a",
      "metadata": {
        "id": "33f23b6a"
      },
      "outputs": [],
      "source": [
        "#Loading SVM skalearn\n",
        "\n",
        "SVM_clf = svm.SVC(C = 5, gamma = 'scale',\n",
        "                  decision_function_shape = 'ovo',\n",
        "                  class_weight = 'balanced',\n",
        "                  kernel ='rbf',\n",
        "                  probability = True,\n",
        "                  random_state = Seed_0)\n",
        "\n",
        "SVM_clf.fit(X_for_SVM, Y_train)\n",
        "\n",
        "#Now predict using the trained SVM model. \n",
        "prediction_SVM = SVM_clf.predict(X_test_features)\n",
        "Y_predict = np.array(prediction_SVM)\n",
        "predict_probabilities = SVM_clf.predict_proba(X_test_features)[:,1]\n",
        "\n",
        "prediction_SVM = le.inverse_transform(prediction_SVM) #retrieve the original label, the current label is between 0 and 1\n",
        "predict_probabilities = SVM_clf.predict_proba(X_test_features)[:,1]\n"
      ]
    },
    {
      "cell_type": "code",
      "execution_count": null,
      "id": "b11de8d3",
      "metadata": {
        "scrolled": false,
        "id": "b11de8d3"
      },
      "outputs": [],
      "source": [
        "#metrics\n",
        "#confusion_matrix\n",
        "CM = sklearn.metrics.confusion_matrix(y_test, prediction_SVM)\n",
        "TP = CM[0][0]\n",
        "FN = CM[0][1]\n",
        "FP = CM[1][0]\n",
        "TN = CM[1][1]\n",
        "\n",
        "#Calculate F1 Score - Validation\n",
        "F1 = ( ( 2*TP ) / ( 2*TP + FP + FN ) )\n",
        "\n",
        "#Calculate Recall - Validation\n",
        "Recall = ( TP / ( TP + FN ) )\n",
        "\n",
        "#Calculate Specificity - Validation\n",
        "Specificity = ( TN / ( TN + FP )  )\n",
        "\n",
        "#Confusion Matrix - verify accuracy of each class\n",
        "\n",
        "CM = pd.DataFrame(CM,columns = ['Aprovechable','No Aprovechable'],index = ['Aprovechable','No Aprovechable'])\n",
        "sns.heatmap(CM, annot=True, linewidth = 1.5, fmt =\"d\")\n",
        "\n",
        "#Calculating MCC\n",
        "MCC = sklearn.metrics.matthews_corrcoef(y_test, prediction_SVM)\n",
        "\n",
        "print('=======================================')\n",
        "print(\"|            Best Scores               |\")\n",
        "print('=======================================\\n')\n",
        "print('        Accuracy :     {:.2f}'.format(metrics.accuracy_score(y_test, prediction_SVM)))\n",
        "print('        Recall :       {:.2f}'.format(Recall))\n",
        "print('        Specificity :  {:.2f}'.format(Specificity))\n",
        "print('        AUC :          {:.2f}'.format(sklearn.metrics.roc_auc_score(y_test, predict_probabilities )))\n",
        "print('        F1 Score :     {:.2f}'.format(F1))\n",
        "print('        MCC :          {:.2f}'.format(MCC))\n",
        "print('        Seed:          ',Seed_0)\n",
        "\n",
        "#Check results on a few select images\n",
        "n = np.random.randint(0,X_test.shape[0])\n",
        "img = X_test[n]\n",
        "plt.imshow(img)\n",
        "input_img = np.expand_dims(img, axis=0) \n",
        "input_img_feature=MobileNetV3model.predict(input_img)\n",
        "input_img_features=input_img_feature.reshape(input_img_feature.shape[0], -1)\n",
        "prediction_svm = SVM_clf.predict(input_img_features)[0] \n",
        "prediction_svm = le.inverse_transform([prediction_svm])  #Reverse the label encoder to original name\n",
        "print(\"The prediction for this image is: \", prediction_svm)\n",
        "print(\"The actual label for this image is: \", y_test[n])\n",
        "\n",
        "print(\"\\n\\n                     ▼ Confusion Matrix ▼\")\n",
        "print(\"   --------------------------------------------\")\n"
      ]
    },
    {
      "cell_type": "code",
      "execution_count": null,
      "id": "51f8f76a",
      "metadata": {
        "id": "51f8f76a"
      },
      "outputs": [],
      "source": [
        "#Calculating AUC - ROC curve \n",
        "Y_tf = predict_probabilities\n",
        "fpr, tpr, thresholds = roc_curve(Y_test, Y_tf)\n",
        "auc = auc(fpr, tpr)"
      ]
    },
    {
      "cell_type": "code",
      "execution_count": null,
      "id": "40d0cd83",
      "metadata": {
        "id": "40d0cd83"
      },
      "outputs": [],
      "source": [
        "#Show ROC-AUC Curve\n",
        "plt.figure(\"ROC-AUC Curve\")\n",
        "plt.plot([0, 1], [0, 1], 'k--')\n",
        "plt.plot(fpr, tpr, label='MobileNetV3 + SVC (area = {:.3f})'.format(auc), color = 'tab:orange')\n",
        "plt.xlabel('False positive rate')\n",
        "plt.ylabel('True positive rate')\n",
        "plt.title('ROC curve')\n",
        "plt.legend(loc='best')\n",
        "plt.show()\n",
        "# Zoom in view of the upper left corner.\n",
        "plt.figure('Zoomed - ROC-AUC Curve')\n",
        "plt.xlim(0, 0.4)\n",
        "plt.ylim(0.6, 1)\n",
        "plt.plot([0, 1], [0, 1], 'k--')\n",
        "plt.plot(fpr, tpr, label='MobileNetV3 + SVC(area = {:.3f})'.format(auc),color = 'tab:orange')\n",
        "plt.xlabel('False positive rate')\n",
        "plt.ylabel('True positive rate')\n",
        "plt.title('ROC curve (zoomed in at top left)')\n",
        "plt.legend(loc='best')"
      ]
    },
    {
      "cell_type": "raw",
      "id": "ad823887",
      "metadata": {
        "id": "ad823887"
      },
      "source": [
        "1 = 'No Aprovechable'\n",
        "0 = 'Aprovechable'"
      ]
    },
    {
      "cell_type": "markdown",
      "id": "a5823e1e",
      "metadata": {
        "id": "a5823e1e"
      },
      "source": [
        "# Real Labels"
      ]
    },
    {
      "cell_type": "code",
      "execution_count": null,
      "id": "38b70aad",
      "metadata": {
        "id": "38b70aad"
      },
      "outputs": [],
      "source": [
        "Y_test"
      ]
    },
    {
      "cell_type": "markdown",
      "id": "9d79dc67",
      "metadata": {
        "id": "9d79dc67"
      },
      "source": [
        "# Predicted Labels"
      ]
    },
    {
      "cell_type": "code",
      "execution_count": null,
      "id": "6af4420b",
      "metadata": {
        "id": "6af4420b"
      },
      "outputs": [],
      "source": [
        "SVM_clf.predict(X_test_features)"
      ]
    },
    {
      "cell_type": "markdown",
      "id": "3119329c",
      "metadata": {
        "id": "3119329c"
      },
      "source": [
        "# Predicted Probabilities"
      ]
    },
    {
      "cell_type": "code",
      "execution_count": null,
      "id": "4d130601",
      "metadata": {
        "id": "4d130601"
      },
      "outputs": [],
      "source": [
        "predict_probabilities"
      ]
    }
  ],
  "metadata": {
    "kernelspec": {
      "display_name": "GPU",
      "language": "python",
      "name": "gpu"
    },
    "language_info": {
      "codemirror_mode": {
        "name": "ipython",
        "version": 3
      },
      "file_extension": ".py",
      "mimetype": "text/x-python",
      "name": "python",
      "nbconvert_exporter": "python",
      "pygments_lexer": "ipython3",
      "version": "3.9.13"
    },
    "colab": {
      "provenance": [],
      "include_colab_link": true
    }
  },
  "nbformat": 4,
  "nbformat_minor": 5
}