{
  "cells": [
    {
      "cell_type": "markdown",
      "metadata": {
        "id": "view-in-github",
        "colab_type": "text"
      },
      "source": [
        "<a href=\"https://colab.research.google.com/github/jett220201/AI_Project/blob/main/Models/ResNet50V2_Fine_tunning.ipynb\" target=\"_parent\"><img src=\"https://colab.research.google.com/assets/colab-badge.svg\" alt=\"Open In Colab\"/></a>"
      ]
    },
    {
      "cell_type": "markdown",
      "source": [
        "# Solid waste sorter (PUJ) using ResNet50V2\n",
        "\n",
        "- Juan Esteban Torres Tamayo\n",
        "- Janner Arley Rosero Mora\n"
      ],
      "metadata": {
        "id": "1P0QaqeXHCy3"
      }
    },
    {
      "cell_type": "markdown",
      "metadata": {
        "id": "Bsm13vg_ufMp"
      },
      "source": [
        "**Import libraries**\n"
      ]
    },
    {
      "cell_type": "code",
      "execution_count": null,
      "metadata": {
        "id": "YKeENjYawUjs"
      },
      "outputs": [],
      "source": [
        "%matplotlib notebook\n",
        "#Only activate if you're using Jupyter Notebook"
      ]
    },
    {
      "cell_type": "code",
      "execution_count": null,
      "metadata": {
        "id": "olyJuGU6uYOb"
      },
      "outputs": [],
      "source": [
        "import os\n",
        "import cv2\n",
        "import glob\n",
        "import random\n",
        "import sklearn\n",
        "import numpy as np\n",
        "import tensorflow as tf\n",
        "import tensorflow_hub as hub\n",
        "import tensorflow.keras as kr\n",
        "import matplotlib.pyplot as plt\n",
        "from sklearn.metrics import auc\n",
        "from sklearn.metrics import roc_curve\n",
        "from keras.models import Model, Sequential\n",
        "from matplotlib.collections import EventCollection\n",
        "from sklearn.model_selection import train_test_split\n",
        "from keras.layers import Dense, Flatten, Conv2D, MaxPooling2D\n"
      ]
    },
    {
      "cell_type": "markdown",
      "metadata": {
        "id": "Gl9OxtmYLIPm"
      },
      "source": [
        "#Load and split dataset"
      ]
    },
    {
      "cell_type": "code",
      "execution_count": null,
      "metadata": {
        "id": "pk70Uj1OwUjv"
      },
      "outputs": [],
      "source": [
        "# Read input images and assign labels based on folder names\n",
        "print(os.listdir(\"data/\"))"
      ]
    },
    {
      "cell_type": "markdown",
      "metadata": {
        "id": "2XSs7r8UwUjw"
      },
      "source": [
        "Control parameters"
      ]
    },
    {
      "cell_type": "code",
      "execution_count": null,
      "metadata": {
        "id": "7SAv7LEcwUjx"
      },
      "outputs": [],
      "source": [
        "Seed_0 = random.randint( 1,2**32 - 1 )\n",
        "N_epochs = 20\n",
        "Batch_size = 64\n",
        "LR = 0.001\n",
        "ImageSize = 224  #Size in pixels \n",
        "Shuffle = True"
      ]
    },
    {
      "cell_type": "code",
      "execution_count": null,
      "metadata": {
        "id": "Oydn8DC8u0ak"
      },
      "outputs": [],
      "source": [
        "#Capture training data and labels into respective lists\n",
        "images = []\n",
        "labels = [] \n",
        "\n",
        "for directory_path in glob.glob(\"data/*\"):\n",
        "    label = directory_path.split(\"\\\\\")[-1]\n",
        "    print(label)\n",
        "    for img_path in glob.glob(os.path.join(directory_path, \"*.jpg\")):\n",
        "        img = cv2.imread(img_path, cv2.IMREAD_COLOR)       \n",
        "        img = cv2.resize(img, (ImageSize, ImageSize))\n",
        "        images.append(img)\n",
        "        labels.append(label)\n",
        "\n",
        "#Convert lists to arrays        \n",
        "images = np.array(images)\n",
        "labels = np.array(labels)\n",
        "  "
      ]
    },
    {
      "cell_type": "code",
      "execution_count": null,
      "metadata": {
        "id": "jxB3pte7wUjy"
      },
      "outputs": [],
      "source": [
        "#Spliting Dataset\n",
        "X_train, X_test, y_train, y_test = train_test_split(images, labels, test_size=0.2, random_state=42)\n",
        "\n",
        "#Encode labels from text to integers.\n",
        "from sklearn import preprocessing\n",
        "le = preprocessing.LabelEncoder()\n",
        "le.fit(y_test)\n",
        "test_labels_encoded = le.transform(y_test)\n",
        "le.fit(y_train)\n",
        "train_labels_encoded = le.transform(y_train)\n",
        "#print(test_labels_encoded)\n",
        "print(train_labels_encoded)\n",
        "len(train_labels_encoded)\n",
        "\n",
        "Y_train = train_labels_encoded\n",
        "Y_test = test_labels_encoded\n",
        "\n",
        "#0 = Aprovechable\n",
        "#1 = No_Aprovechable"
      ]
    },
    {
      "cell_type": "markdown",
      "metadata": {
        "id": "Kj3N6ESwu9nn"
      },
      "source": [
        "#Import ResNetV2 and train model"
      ]
    },
    {
      "cell_type": "code",
      "execution_count": null,
      "metadata": {
        "id": "dYWRCrr4u8Xs"
      },
      "outputs": [],
      "source": [
        "# Import ResNet V2 and freeze all the layers\n",
        "ResNetV2 = hub.KerasLayer(\"https://tfhub.dev/google/imagenet/resnet_v2_50/feature_vector/5\", \n",
        "           trainable=False, \n",
        "           arguments=dict(batch_norm_momentum=0.997))\n",
        "\n",
        "ResNetV2.build([None, ImageSize, ImageSize, 3])"
      ]
    },
    {
      "cell_type": "code",
      "execution_count": null,
      "metadata": {
        "id": "t7YJYU50wUj1"
      },
      "outputs": [],
      "source": [
        "# Generating path to save weights per epoch \n",
        "checkpoint_path = \"training_1/cp-{epoch:d}.ckpt\"\n",
        "checkpoint_dir = os.path.dirname(checkpoint_path)\n",
        "\n",
        "# Create a callback that saves the model's weights\n",
        "cp_callback = tf.keras.callbacks.ModelCheckpoint(\n",
        "    filepath = checkpoint_path, \n",
        "    verbose = 1, \n",
        "    save_weights_only = True,\n",
        "    save_freq = 'epoch')"
      ]
    },
    {
      "cell_type": "code",
      "execution_count": null,
      "metadata": {
        "id": "W-XEU7VZv05p"
      },
      "outputs": [],
      "source": [
        "# Create a new model and use ResNetV2 with fine-tuning method\n",
        "model = kr.Sequential([\n",
        "    \n",
        "    kr.layers.Rescaling( 1./255, input_shape = ( ImageSize, ImageSize, 3 ) ),\n",
        "    ResNetV2,\n",
        "    kr.layers.Dense( units = 256, activation = 'relu' ),\n",
        "    kr.layers.BatchNormalization(),\n",
        "    kr.layers.Dense( units = 1, activation = 'sigmoid' )\n",
        "])\n",
        "\n",
        "model.summary() #Summary of the architecture\n",
        "\n",
        "# Compile model with Adam as optimizer an BinaryCrossEntropy as loss function\n",
        "model.compile(optimizer = tf.keras.optimizers.Adam( learning_rate = LR ),\n",
        "              loss = 'binary_crossentropy',\n",
        "              metrics = ['accuracy', 'AUC', tf.keras.metrics.TruePositives(), tf.keras.metrics.TrueNegatives(), tf.keras.metrics.FalsePositives(), tf.keras.metrics.FalseNegatives()])\n",
        "\n",
        "# Train model with callbacks\n",
        "history = model.fit(x = X_train,\n",
        "                    y = Y_train,\n",
        "                    batch_size = Batch_size,\n",
        "                    epochs = N_epochs,\n",
        "                    verbose = 1,\n",
        "                    shuffle = Shuffle,\n",
        "                    validation_data = (X_test, Y_test),\n",
        "                    callbacks=[cp_callback])\n"
      ]
    },
    {
      "cell_type": "markdown",
      "metadata": {
        "id": "E1uKPl-o8wjF"
      },
      "source": [
        "#Calculate Confusion Matrix, Specificity, Recall, MCC, F1 Score, AUC and ROC curve\n",
        "\n"
      ]
    },
    {
      "cell_type": "code",
      "execution_count": null,
      "metadata": {
        "id": "NCNwOUUuwUj2"
      },
      "outputs": [],
      "source": [
        "history.history #Show elements of history  "
      ]
    },
    {
      "cell_type": "code",
      "execution_count": null,
      "metadata": {
        "id": "oKJ5N0KIxIOV"
      },
      "outputs": [],
      "source": [
        "# Get values of TN, FP, FN, TP for the confusion matrix\n",
        "FN = history.history['val_false_negatives_4'] # For each compile the number plus by \n",
        "TN = history.history['val_true_negatives_4']  # 1 -> false_negatives_1,2,3....\n",
        "FP = history.history['val_false_positives_4']\n",
        "TP = history.history['val_true_positives_4']\n",
        "print('-Values of Confusion Matrix-')\n",
        "print('False Negatives: ', FN)\n",
        "print('True Negatives: ', TN)\n",
        "print('False Positives: ', FP)\n",
        "print('True Positives: ', TP,'\\n')\n",
        "\n",
        "# Show Confusion Matrix\n",
        "print('-Confusion Matrix-')\n",
        "for i in range(N_epochs):\n",
        "    Matrix = np.zeros((2,2))\n",
        "    Matrix[0][0] = TN[i]\n",
        "    Matrix[0][1] = FP[i]\n",
        "    Matrix[1][0] = FN[i]\n",
        "    Matrix[1][1] = TP[i]\n",
        "    print(Matrix,'\\n')\n",
        "\n",
        "\n",
        "#Calculate F1 Score\n",
        "F1 = []\n",
        "for i in range(N_epochs):\n",
        "    try:\n",
        "        temp = ( ( 2*TP[i] ) / ( 2*TP[i] + FP[i] + FN[i] ) )\n",
        "    except:\n",
        "        temp = 0\n",
        "    F1.append(temp)\n",
        "print('-Result for F1 Score-')\n",
        "print(F1,'\\n')\n",
        "\n",
        "\n",
        "#Calculate MCC\n",
        "MCC = []\n",
        "for i in range(N_epochs):\n",
        "    try:\n",
        "        temp = ( (TP[i]*TN[i]) - (FP[i]*FN[i]) ) / ( np.sqrt( (TP[i]+FP[i])*(TP[i]+FN[i])*(TN[i]+FP[i])*(TN[i]+FN[i]) ) )\n",
        "    except:\n",
        "        temp = 0\n",
        "    MCC.append(temp)\n",
        "print('-Result for MCC-')\n",
        "print(MCC,'\\n')\n",
        "\n",
        "\n",
        "#Calculate Recall - Validation\n",
        "Recall = []\n",
        "for i in range(N_epochs):\n",
        "    try:\n",
        "        temp = ( TP[i] / ( TP[i] + FN[i] ) )\n",
        "    except:\n",
        "        temp = 0\n",
        "    Recall.append(temp)\n",
        "print('-Result for Recall-')\n",
        "print(Recall,'\\n')\n",
        "\n",
        "\n",
        "#Calculate Specificity - Validation\n",
        "Specificity = []\n",
        "for i in range(N_epochs):\n",
        "    try:\n",
        "        temp = ( TN[i] / ( TN[i] + FP[i] )  )\n",
        "    except:\n",
        "        temp = 0\n",
        "    Specificity.append(temp)\n",
        "print('-Result for Specificity-')\n",
        "print(Specificity,'\\n')"
      ]
    },
    {
      "cell_type": "code",
      "execution_count": null,
      "metadata": {
        "id": "L_VbDFr8Vrzk"
      },
      "outputs": [],
      "source": [
        "#Show Validation metrics\n",
        "xdata = [ x for x in range(N_epochs) ]\n",
        "fig1 = plt.figure('Metrics')\n",
        "plt.plot(history.history['val_accuracy'].index(max(history.history['val_accuracy'])), max(history.history['val_accuracy']), marker = 'o', markerfacecolor = 'red', markersize = 12)\n",
        "plt.plot(xdata, Recall, color = 'c', linewidth = 2,linestyle='dashed')\n",
        "plt.plot(xdata, Specificity, color = 'm',linewidth = 2,linestyle='dashed')\n",
        "plt.plot(xdata, MCC, color = 'b',linewidth = 2.5)\n",
        "plt.plot(xdata, F1, color = 'r',linewidth = 2.5)\n",
        "plt.plot(xdata, history.history['val_auc'], color = 'tab:orange',linewidth = 2.5)\n",
        "plt.plot(xdata, history.history['val_accuracy'], color = 'tab:olive',linewidth = 2.5)\n",
        "plt.legend(['Best score','Recall','Specificity','MCC','F1','AUC','Accuracy'])\n",
        "plt.title('Validation metrics')\n",
        "plt.xlabel('Epochs')\n",
        "plt.ylim(0, 1)"
      ]
    },
    {
      "cell_type": "code",
      "execution_count": null,
      "metadata": {
        "id": "jHT5JnNkXqsU"
      },
      "outputs": [],
      "source": [
        "#Show accuracy metrics\n",
        "fig2 = plt.figure('Accuracy')\n",
        "plt.plot(history.history['val_accuracy'].index(max(history.history['val_accuracy'])), max(history.history['val_accuracy']), marker = 'o', markerfacecolor = 'red', markersize = 12)\n",
        "plt.plot(xdata, history.history['accuracy'], color = 'tab:green',linewidth = 2.5)\n",
        "plt.plot(xdata, history.history['val_accuracy'], color = 'tab:olive',linewidth = 2.5)\n",
        "plt.legend(['Best Score','Accuracy','val_accuracy'])\n",
        "plt.title('Accuracy vs val_accuracy')\n",
        "plt.xlabel('Epochs')\n",
        "plt.ylim(0, 1)\n",
        "plt.show()"
      ]
    },
    {
      "cell_type": "code",
      "execution_count": null,
      "metadata": {
        "id": "ftPS4_5MOJFe"
      },
      "outputs": [],
      "source": [
        "print(\"Best ACC_val = \", max(history.history['val_accuracy']))\n",
        "print( \"Epoch = \",history.history['val_accuracy'].index(max(history.history['val_accuracy'])) + 1 )"
      ]
    },
    {
      "cell_type": "code",
      "execution_count": null,
      "metadata": {
        "id": "1b3LG8-8eFh0"
      },
      "outputs": [],
      "source": [
        "#Calculating AUC - ROC curve\n",
        "Y_tf = model.predict(X_test).ravel()\n",
        "fpr_keras, tpr_keras, thresholds_keras = roc_curve(Y_test, Y_tf)\n",
        "auc_keras = auc(fpr_keras, tpr_keras)"
      ]
    },
    {
      "cell_type": "code",
      "execution_count": null,
      "metadata": {
        "id": "-Xd6CX0EXkrW"
      },
      "outputs": [],
      "source": [
        "#Show ROC-AUC Curve\n",
        "plt.figure(\"ROC-AUC Curve\")\n",
        "plt.plot([0, 1], [0, 1], 'k--')\n",
        "plt.plot(fpr_keras, tpr_keras, label='ResNet 50 V2 (area = {:.3f})'.format(auc_keras), color = 'tab:orange')\n",
        "plt.xlabel('False positive rate')\n",
        "plt.ylabel('True positive rate')\n",
        "plt.title('ROC curve')\n",
        "plt.legend(loc='best')\n",
        "plt.show()\n",
        "\n",
        "# Zoom in view of the upper left corner.\n",
        "plt.figure('Zoomed / Recovered model')\n",
        "plt.xlim(0, 0.4)\n",
        "plt.ylim(0.6, 1)\n",
        "plt.plot([0, 1], [0, 1], 'k--')\n",
        "plt.plot(fpr_keras, tpr_keras, label='ResNet 50 V2 (area = {:.3f})'.format(auc_keras),color = 'tab:orange')\n",
        "plt.xlabel('False positive rate')\n",
        "plt.ylabel('True positive rate')\n",
        "plt.title('ROC curve (zoomed in at top left)')\n",
        "plt.legend(loc='best')"
      ]
    },
    {
      "cell_type": "code",
      "execution_count": null,
      "metadata": {
        "id": "Hv2KAFL6wUj5",
        "outputId": "cd48c273-3958-4308-e492-e875cf9f2aad"
      },
      "outputs": [
        {
          "name": "stdout",
          "output_type": "stream",
          "text": [
            "=======================================\n",
            "|            Best Scores               |\n",
            "=======================================\n",
            "\n",
            "        Epoch :        6\n",
            "        Val_Accuracy : 0.8710\n",
            "        Recall :       0.8350\n",
            "        Specificity :  0.9086\n",
            "        AUC :          0.9187\n",
            "        F1 Score :     0.8687\n",
            "        MCC :          0.7446\n",
            "        Seed:          4987606742\n"
          ]
        }
      ],
      "source": [
        "print('=======================================')\n",
        "print(\"|            Best Scores               |\")\n",
        "print('=======================================\\n')\n",
        "print('        Epoch :        {}'.format(1 + history.history['val_accuracy'].index(max(history.history['val_accuracy']))))\n",
        "print('        Val_Accuracy : {:.4f}'.format(history.history['val_accuracy'][history.history['val_accuracy'].index(max(history.history['val_accuracy']))]))\n",
        "print('        Recall :       {:.4f}'.format(Recall[history.history['val_accuracy'].index(max(history.history['val_accuracy']))]))\n",
        "print('        Specificity :  {:.4f}'.format(Specificity[history.history['val_accuracy'].index(max(history.history['val_accuracy']))]))\n",
        "print('        AUC :          {:.4f}'.format(history.history['val_auc'][history.history['val_accuracy'].index(max(history.history['val_accuracy']))]))\n",
        "print('        F1 Score :     {:.4f}'.format(F1[history.history['val_accuracy'].index(max(history.history['val_accuracy']))]))\n",
        "print('        MCC :          {:.4f}'.format(MCC[history.history['val_accuracy'].index(max(history.history['val_accuracy']))]))\n",
        "print('        Seed:         ',Seed_0)\n",
        "\n",
        "#Printing best result of training "
      ]
    },
    {
      "cell_type": "markdown",
      "metadata": {
        "id": "-OcH1vXI6g2C"
      },
      "source": [
        "#Export model for storage\n"
      ]
    },
    {
      "cell_type": "code",
      "execution_count": null,
      "metadata": {
        "id": "4H-bqoek52oF"
      },
      "outputs": [],
      "source": [
        "#Save model \n",
        "model.save('Model_1/ResNet50V2.h5')\n"
      ]
    },
    {
      "cell_type": "markdown",
      "metadata": {
        "id": "yMAR4w5ArRgW"
      },
      "source": [
        "#Load model"
      ]
    },
    {
      "cell_type": "code",
      "execution_count": null,
      "metadata": {
        "id": "cq6pdF-QrU1x"
      },
      "outputs": [],
      "source": [
        "#Load the saved model again\n",
        "new_model = tf.keras.models.load_model( 'Model_1/ResNet50V2.h5', custom_objects={'KerasLayer':hub.KerasLayer}, compile=True, options=None )\n",
        "\n",
        "#Show the model architecture\n",
        "new_model.summary()"
      ]
    },
    {
      "cell_type": "code",
      "execution_count": null,
      "metadata": {
        "id": "F_T0TXNPwUj6"
      },
      "outputs": [],
      "source": [
        "#Setting Best weights saved\n",
        "BestWeights = 'training_1/cp-{}.ckpt'.format(history.history['val_accuracy'].index(max(history.history['val_accuracy'])) + 1 )\n",
        "#Loading Best weights saved on new_model\n",
        "model.load_weights(BestWeights)"
      ]
    },
    {
      "cell_type": "code",
      "execution_count": null,
      "metadata": {
        "id": "smZU5-ERsOek"
      },
      "outputs": [],
      "source": [
        "#Verify metrics\n",
        "# Evaluate the restored model\n",
        "loss, acc, aucscore, tp, tn, fp, fn = model.evaluate(X_test, Y_test, verbose=2)\n",
        "print('Restored model, accuracy: {:5.2f}%'.format(100 * acc))\n"
      ]
    },
    {
      "cell_type": "code",
      "execution_count": null,
      "metadata": {
        "id": "fYQ3EBoJwUj6",
        "outputId": "9d3c3fb6-1b47-47ce-b30b-970c848bad96"
      },
      "outputs": [
        {
          "name": "stdout",
          "output_type": "stream",
          "text": [
            "13/13 [==============================] - 17s 1s/step\n"
          ]
        }
      ],
      "source": [
        "#Calculating AUC - ROC curve / Restored model\n",
        "Y_tf = model.predict(X_test).ravel()\n",
        "fpr_keras, tpr_keras, thresholds_keras = roc_curve(Y_test, Y_tf)\n",
        "auc_keras = auc(fpr_keras, tpr_keras)"
      ]
    },
    {
      "cell_type": "code",
      "execution_count": null,
      "metadata": {
        "id": "Bs31ifY4wUj7"
      },
      "outputs": [],
      "source": [
        "#Show ROC-AUC Curve - Recovered model\n",
        "plt.figure(\"ROC-AUC Curve - Recovered model\")\n",
        "plt.plot([0, 1], [0, 1], 'k--')\n",
        "plt.plot(fpr_keras, tpr_keras, label='ResNet 50 V2 Restored model (area = {:.3f})'.format(auc_keras), color = 'tab:orange')\n",
        "plt.xlabel('False positive rate')\n",
        "plt.ylabel('True positive rate')\n",
        "plt.title('ROC curve')\n",
        "plt.legend(loc='best')\n",
        "plt.show()\n",
        "\n",
        "# Zoom in view of the upper left corner.\n",
        "plt.figure('Zoomed')\n",
        "plt.xlim(0, 0.4)\n",
        "plt.ylim(0.6, 1)\n",
        "plt.plot([0, 1], [0, 1], 'k--')\n",
        "plt.plot(fpr_keras, tpr_keras, label='ResNet 50 V2 Restored model(area = {:.3f})'.format(auc_keras),color = 'tab:orange')\n",
        "plt.xlabel('False positive rate')\n",
        "plt.ylabel('True positive rate')\n",
        "plt.title('ROC curve (zoomed in at top left)')\n",
        "plt.legend(loc='best')"
      ]
    },
    {
      "cell_type": "code",
      "execution_count": null,
      "metadata": {
        "id": "LLbpLO09wUj7"
      },
      "outputs": [],
      "source": [
        "#Show predicted vs real labels\n",
        "index = 0\n",
        "for i in Y_tf:\n",
        "    if i >= 0.5:\n",
        "        Y_tf[index] = int(1)\n",
        "    else:\n",
        "        Y_tf[index] = int(0)\n",
        "    index += 1\n",
        "print(\"                           *** Real Labels ***\\n\")\n",
        "print(Y_test,'\\n')\n",
        "print(\"                         *** Predicted Labels ***\\n\")\n",
        "print( Y_tf)"
      ]
    },
    {
      "cell_type": "code",
      "execution_count": null,
      "metadata": {
        "id": "RJ2_gQ6SwUj7"
      },
      "outputs": [],
      "source": [
        "#Validate real ACC of restored model\n",
        "index = 0\n",
        "tp_val = 0\n",
        "for c in Y_test:\n",
        "    if Y_test[index] == Y_tf[index]:\n",
        "        tp_val += 1\n",
        "    index += 1\n",
        "print('  Manual ACC_Val:   {:.2f}%'.format(100*tp_val/len(Y_test)))"
      ]
    }
  ],
  "metadata": {
    "colab": {
      "provenance": [],
      "include_colab_link": true
    },
    "kernelspec": {
      "display_name": "Python 3 (ipykernel)",
      "language": "python",
      "name": "python3"
    },
    "language_info": {
      "codemirror_mode": {
        "name": "ipython",
        "version": 3
      },
      "file_extension": ".py",
      "mimetype": "text/x-python",
      "name": "python",
      "nbconvert_exporter": "python",
      "pygments_lexer": "ipython3",
      "version": "3.9.13"
    }
  },
  "nbformat": 4,
  "nbformat_minor": 0
}